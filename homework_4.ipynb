{
 "cells": [
  {
   "cell_type": "code",
   "execution_count": 1,
   "metadata": {},
   "outputs": [],
   "source": [
    "import numpy as np"
   ]
  },
  {
   "cell_type": "code",
   "execution_count": 29,
   "metadata": {},
   "outputs": [
    {
     "name": "stdout",
     "output_type": "stream",
     "text": [
      "The value of y at x is: 1.1036393232374955\n"
     ]
    }
   ],
   "source": [
    "# Python program to implement Runge Kutta method \n",
    "def f1(t,u1, u2): \n",
    "    return ((x - y)/2) \n",
    "\n",
    "def \n",
    "  \n",
    "# Finds value of y for a given x using step size h \n",
    "# and initial value y0 at x0. \n",
    "def rungeKutta(x0, y0, x, h): \n",
    "    # Count number of iterations using step size or \n",
    "    # step height h \n",
    "    n = (int)((x - x0)/h)  \n",
    "    # Iterate for number of iterations \n",
    "    y = y0 \n",
    "    for i in range(1, n + 1): \n",
    "        \"Apply Runge Kutta Formulas to find next value of y\"\n",
    "        k1 = h * dydx(x0, y) \n",
    "        k2 = h * dydx(x0 + 0.5 * h, y + 0.5 * k1) \n",
    "        k3 = h * dydx(x0 + 0.5 * h, y + 0.5 * k2) \n",
    "        k4 = h * dydx(x0 + h, y + k3) \n",
    "  \n",
    "        # Update next value of y \n",
    "        y = y + (1.0 / 6.0)*(k1 + 2 * k2 + 2 * k3 + k4) \n",
    "  \n",
    "        # Update next value of x \n",
    "        x0 = x0 + h \n",
    "    return y \n",
    "  \n",
    "# Driver method \n",
    "x0 = 0\n",
    "y = 1\n",
    "x = 2\n",
    "h = 0.2\n",
    "print ('The value of y at x is:', rungeKutta(x0, y, x, h))"
   ]
  },
  {
   "cell_type": "code",
   "execution_count": 39,
   "metadata": {},
   "outputs": [],
   "source": [
    "def anl1(t):\n",
    "    ans = 1/3 *np.exp(5*t) - 1/3 *np.exp(-t) + np.exp(2*t)\n",
    "    print(round(ans,4))\n",
    "    return\n",
    "\n",
    "def anl2(t):\n",
    "    ans = 1/3 *np.exp(5*t) + 2/3 *np.exp(-t) + t**2 * np.exp(2*t)\n",
    "    print(round(ans,4))\n",
    "    return"
   ]
  },
  {
   "cell_type": "code",
   "execution_count": 40,
   "metadata": {},
   "outputs": [
    {
     "name": "stdout",
     "output_type": "stream",
     "text": [
      "1.0\n",
      "2.125\n",
      "4.4651\n",
      "9.8324\n",
      "23.0026\n",
      "56.7375\n",
      "1.0\n",
      "1.5116\n",
      "3.266\n",
      "8.2563\n",
      "21.6689\n",
      "57.1054\n"
     ]
    }
   ],
   "source": [
    "for t in range (0,6):\n",
    "    anl1(t/5)\n",
    "\n",
    "for t in range (0,6):\n",
    "    anl2(t/5)"
   ]
  },
  {
   "cell_type": "code",
   "execution_count": 54,
   "metadata": {},
   "outputs": [],
   "source": [
    "def AB2(h,y1,y2,func,lb,ub):\n",
    "    y1 = 3/2*0.001*func(0.001,0.001**2/2)\n",
    "    while lb <= ub:\n",
    "        y = y1 + 3/2*h*func(lb-h,y1) - 1/2*h*func(lb-2*h,y2)\n",
    "        y1 = y\n",
    "        y2 = y1\n",
    "        print(round(lb,4), round(y,4))\n",
    "        lb += h\n",
    "        \n",
    "    return y"
   ]
  },
  {
   "cell_type": "code",
   "execution_count": 55,
   "metadata": {},
   "outputs": [
    {
     "name": "stdout",
     "output_type": "stream",
     "text": [
      "0.1 0.005\n",
      "0.2 0.0205\n",
      "0.3 0.0476\n",
      "0.4 0.0873\n",
      "0.5 0.141\n"
     ]
    },
    {
     "data": {
      "text/plain": [
       "0.1410379902327863"
      ]
     },
     "execution_count": 55,
     "metadata": {},
     "output_type": "execute_result"
    }
   ],
   "source": [
    "AB2(0.1, 0, (0.001)**2/2, lambda x,y: x+y, 0.1, 0.5)"
   ]
  },
  {
   "cell_type": "code",
   "execution_count": 9,
   "metadata": {},
   "outputs": [],
   "source": [
    "import sympy"
   ]
  },
  {
   "cell_type": "code",
   "execution_count": 10,
   "metadata": {},
   "outputs": [],
   "source": [
    "from sympy.solvers import solve\n",
    "from sympy import Symbol"
   ]
  },
  {
   "cell_type": "code",
   "execution_count": 56,
   "metadata": {},
   "outputs": [],
   "source": [
    "def AM2(h,y1,y2,func,lb,ub):\n",
    "    y1 = 3/2*0.001*func(0.001,0.001**2/2)\n",
    "    while lb <= ub:\n",
    "        y = (y1 + h/12*(5*(lb+h) + 8*func(lb,y1)-func(lb-h,y2)))/(1-5*h/12)\n",
    "        y1 = y\n",
    "        y2 = y1\n",
    "        print(lb, round(y,4))\n",
    "        lb += h\n",
    "        \n",
    "    return y"
   ]
  },
  {
   "cell_type": "code",
   "execution_count": 62,
   "metadata": {},
   "outputs": [
    {
     "name": "stdout",
     "output_type": "stream",
     "text": [
      "0.1 0.0157\n",
      "0.2 0.0434\n",
      "0.30000000000000004 0.0844\n",
      "0.4 0.1402\n",
      "0.5 0.2122\n"
     ]
    },
    {
     "data": {
      "text/plain": [
       "0.2122073524781454"
      ]
     },
     "execution_count": 62,
     "metadata": {},
     "output_type": "execute_result"
    }
   ],
   "source": [
    "AM2(0.1, 0, 0.001**2/2,lambda x,y: x+y, 0.1, 0.5)"
   ]
  },
  {
   "cell_type": "code",
   "execution_count": 65,
   "metadata": {},
   "outputs": [
    {
     "data": {
      "text/plain": [
       "2e-06"
      ]
     },
     "execution_count": 65,
     "metadata": {},
     "output_type": "execute_result"
    }
   ],
   "source": [
    "0.002**2/2"
   ]
  },
  {
   "cell_type": "code",
   "execution_count": 27,
   "metadata": {},
   "outputs": [],
   "source": [
    "def AB4pred(h,y1,y2,y3,y4,func,lb,ub):\n",
    "    return (y1 + h/24*(55*func(lb,y1) -59*func(lb-h,y2) + 37*func(lb-2*h,y3) - 9*func(lb-3*h,y4)))"
   ]
  },
  {
   "cell_type": "code",
   "execution_count": 19,
   "metadata": {},
   "outputs": [
    {
     "data": {
      "text/plain": [
       "-0.7071067811865476"
      ]
     },
     "execution_count": 19,
     "metadata": {},
     "output_type": "execute_result"
    }
   ],
   "source": [
    "def AM3cor(h,y1,y2,y3,y4,func,lb,ub):\n",
    "    while lb <= ub:\n",
    "        y = (y1 + h/24*(9*func(lb,AB4pred(h,y1,y2,y3,y4,func,lb + h,ub) + 19*func(lb,y2)) - 5*func(lb-))\n",
    "        y1 = y\n",
    "        y2 = y1\n",
    "        print(lb, y)\n",
    "        lb += h\n",
    "        \n",
    "    return y"
   ]
  },
  {
   "cell_type": "code",
   "execution_count": null,
   "metadata": {},
   "outputs": [],
   "source": []
  }
 ],
 "metadata": {
  "kernelspec": {
   "display_name": "Python 3",
   "language": "python",
   "name": "python3"
  },
  "language_info": {
   "codemirror_mode": {
    "name": "ipython",
    "version": 3
   },
   "file_extension": ".py",
   "mimetype": "text/x-python",
   "name": "python",
   "nbconvert_exporter": "python",
   "pygments_lexer": "ipython3",
   "version": "3.6.10"
  }
 },
 "nbformat": 4,
 "nbformat_minor": 2
}
